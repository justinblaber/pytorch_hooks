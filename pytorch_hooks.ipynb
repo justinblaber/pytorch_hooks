{
 "cells": [
  {
   "cell_type": "markdown",
   "metadata": {},
   "source": [
    "# Import"
   ]
  },
  {
   "cell_type": "code",
   "execution_count": 1,
   "metadata": {
    "ExecuteTime": {
     "end_time": "2020-03-16T15:17:57.037816Z",
     "start_time": "2020-03-16T15:17:56.617767Z"
    }
   },
   "outputs": [],
   "source": [
    "import torch\n",
    "import torch.nn\n",
    "import torchvision\n",
    "\n",
    "import pandas as pd\n",
    "\n",
    "from IPython.core.debugger import set_trace"
   ]
  },
  {
   "cell_type": "markdown",
   "metadata": {},
   "source": [
    "# Utility"
   ]
  },
  {
   "cell_type": "code",
   "execution_count": 2,
   "metadata": {
    "ExecuteTime": {
     "end_time": "2020-03-16T15:17:57.041525Z",
     "start_time": "2020-03-16T15:17:57.039376Z"
    }
   },
   "outputs": [],
   "source": [
    "def leaf_modules(model): # TODO: does pytorch have a built-in for this?\n",
    "    for m in model.modules():\n",
    "        if len(list(m.children())) == 0:\n",
    "            yield m"
   ]
  },
  {
   "cell_type": "markdown",
   "metadata": {},
   "source": [
    "# Model summary"
   ]
  },
  {
   "cell_type": "markdown",
   "metadata": {},
   "source": [
    "First thing is to try to write a model summary with hooks"
   ]
  },
  {
   "cell_type": "code",
   "execution_count": 3,
   "metadata": {
    "ExecuteTime": {
     "end_time": "2020-03-16T15:17:57.985085Z",
     "start_time": "2020-03-16T15:17:57.042631Z"
    }
   },
   "outputs": [],
   "source": [
    "model = torchvision.models.vgg16(pretrained=True)"
   ]
  },
  {
   "cell_type": "code",
   "execution_count": 4,
   "metadata": {
    "ExecuteTime": {
     "end_time": "2020-03-16T15:17:57.988790Z",
     "start_time": "2020-03-16T15:17:57.986238Z"
    }
   },
   "outputs": [],
   "source": [
    "def _hook(module, x, y): \n",
    "    module.sp_x = x[0].shape[1:]\n",
    "    module.sp_y = y.shape[1:]"
   ]
  },
  {
   "cell_type": "code",
   "execution_count": 5,
   "metadata": {
    "ExecuteTime": {
     "end_time": "2020-03-16T15:17:58.002354Z",
     "start_time": "2020-03-16T15:17:57.989886Z"
    },
    "scrolled": false
   },
   "outputs": [],
   "source": [
    "hooks = []\n",
    "for m in leaf_modules(model):\n",
    "    hooks.append(m.register_forward_hook(_hook))"
   ]
  },
  {
   "cell_type": "code",
   "execution_count": 6,
   "metadata": {
    "ExecuteTime": {
     "end_time": "2020-03-16T15:17:58.008357Z",
     "start_time": "2020-03-16T15:17:58.003424Z"
    }
   },
   "outputs": [],
   "source": [
    "sz = (300, 400, 3)"
   ]
  },
  {
   "cell_type": "code",
   "execution_count": 7,
   "metadata": {
    "ExecuteTime": {
     "end_time": "2020-03-16T15:17:58.019066Z",
     "start_time": "2020-03-16T15:17:58.010098Z"
    }
   },
   "outputs": [
    {
     "data": {
      "text/plain": [
       "torch.Size([1, 3, 300, 400])"
      ]
     },
     "execution_count": 7,
     "metadata": {},
     "output_type": "execute_result"
    }
   ],
   "source": [
    "X = torch.zeros(1, sz[2], *sz[0:2])\n",
    "X.shape"
   ]
  },
  {
   "cell_type": "code",
   "execution_count": 8,
   "metadata": {
    "ExecuteTime": {
     "end_time": "2020-03-16T15:17:58.344091Z",
     "start_time": "2020-03-16T15:17:58.020490Z"
    }
   },
   "outputs": [],
   "source": [
    "y = model.forward(X)"
   ]
  },
  {
   "cell_type": "code",
   "execution_count": 9,
   "metadata": {
    "ExecuteTime": {
     "end_time": "2020-03-16T15:17:58.348285Z",
     "start_time": "2020-03-16T15:17:58.345446Z"
    }
   },
   "outputs": [
    {
     "data": {
      "text/plain": [
       "torch.Size([1, 1000])"
      ]
     },
     "execution_count": 9,
     "metadata": {},
     "output_type": "execute_result"
    }
   ],
   "source": [
    "y.shape"
   ]
  },
  {
   "cell_type": "code",
   "execution_count": 10,
   "metadata": {
    "ExecuteTime": {
     "end_time": "2020-03-16T15:17:58.457592Z",
     "start_time": "2020-03-16T15:17:58.349359Z"
    },
    "scrolled": false
   },
   "outputs": [],
   "source": [
    "df = pd.DataFrame(columns=['name', 'in_shape', 'out_shape', 'num_params'])\n",
    "for m in leaf_modules(model):\n",
    "    dict_row = {'name': str(m).split('(')[0],\n",
    "                'in_shape': m.sp_x,\n",
    "                'out_shape': m.sp_y}\n",
    "    if hasattr(m, 'weight') and hasattr(m, 'bias'):\n",
    "        dict_row['num_params'] = m.weight.numel() + m.bias.numel()\n",
    "    df = df.append(dict_row, ignore_index=True)\n",
    "# Get summary row\n",
    "df['num_params'] = df['num_params'].astype(float) # pandas has trouble with int + nans\n",
    "row_total = df.sum(numeric_only=True, skipna=True)\n",
    "row_total.name='Total' # Replaces numeric index\n",
    "df = df.append(row_total)"
   ]
  },
  {
   "cell_type": "code",
   "execution_count": 11,
   "metadata": {
    "ExecuteTime": {
     "end_time": "2020-03-16T15:17:58.477468Z",
     "start_time": "2020-03-16T15:17:58.458600Z"
    }
   },
   "outputs": [
    {
     "data": {
      "text/html": [
       "<div>\n",
       "<style scoped>\n",
       "    .dataframe tbody tr th:only-of-type {\n",
       "        vertical-align: middle;\n",
       "    }\n",
       "\n",
       "    .dataframe tbody tr th {\n",
       "        vertical-align: top;\n",
       "    }\n",
       "\n",
       "    .dataframe thead th {\n",
       "        text-align: right;\n",
       "    }\n",
       "</style>\n",
       "<table border=\"1\" class=\"dataframe\">\n",
       "  <thead>\n",
       "    <tr style=\"text-align: right;\">\n",
       "      <th></th>\n",
       "      <th>name</th>\n",
       "      <th>in_shape</th>\n",
       "      <th>out_shape</th>\n",
       "      <th>num_params</th>\n",
       "    </tr>\n",
       "  </thead>\n",
       "  <tbody>\n",
       "    <tr>\n",
       "      <th>0</th>\n",
       "      <td>Conv2d</td>\n",
       "      <td>(3, 300, 400)</td>\n",
       "      <td>(64, 300, 400)</td>\n",
       "      <td>1792.0</td>\n",
       "    </tr>\n",
       "    <tr>\n",
       "      <th>1</th>\n",
       "      <td>ReLU</td>\n",
       "      <td>(64, 300, 400)</td>\n",
       "      <td>(64, 300, 400)</td>\n",
       "      <td>NaN</td>\n",
       "    </tr>\n",
       "    <tr>\n",
       "      <th>2</th>\n",
       "      <td>Conv2d</td>\n",
       "      <td>(64, 300, 400)</td>\n",
       "      <td>(64, 300, 400)</td>\n",
       "      <td>36928.0</td>\n",
       "    </tr>\n",
       "    <tr>\n",
       "      <th>3</th>\n",
       "      <td>ReLU</td>\n",
       "      <td>(64, 300, 400)</td>\n",
       "      <td>(64, 300, 400)</td>\n",
       "      <td>NaN</td>\n",
       "    </tr>\n",
       "    <tr>\n",
       "      <th>4</th>\n",
       "      <td>MaxPool2d</td>\n",
       "      <td>(64, 300, 400)</td>\n",
       "      <td>(64, 150, 200)</td>\n",
       "      <td>NaN</td>\n",
       "    </tr>\n",
       "    <tr>\n",
       "      <th>5</th>\n",
       "      <td>Conv2d</td>\n",
       "      <td>(64, 150, 200)</td>\n",
       "      <td>(128, 150, 200)</td>\n",
       "      <td>73856.0</td>\n",
       "    </tr>\n",
       "    <tr>\n",
       "      <th>6</th>\n",
       "      <td>ReLU</td>\n",
       "      <td>(128, 150, 200)</td>\n",
       "      <td>(128, 150, 200)</td>\n",
       "      <td>NaN</td>\n",
       "    </tr>\n",
       "    <tr>\n",
       "      <th>7</th>\n",
       "      <td>Conv2d</td>\n",
       "      <td>(128, 150, 200)</td>\n",
       "      <td>(128, 150, 200)</td>\n",
       "      <td>147584.0</td>\n",
       "    </tr>\n",
       "    <tr>\n",
       "      <th>8</th>\n",
       "      <td>ReLU</td>\n",
       "      <td>(128, 150, 200)</td>\n",
       "      <td>(128, 150, 200)</td>\n",
       "      <td>NaN</td>\n",
       "    </tr>\n",
       "    <tr>\n",
       "      <th>9</th>\n",
       "      <td>MaxPool2d</td>\n",
       "      <td>(128, 150, 200)</td>\n",
       "      <td>(128, 75, 100)</td>\n",
       "      <td>NaN</td>\n",
       "    </tr>\n",
       "    <tr>\n",
       "      <th>10</th>\n",
       "      <td>Conv2d</td>\n",
       "      <td>(128, 75, 100)</td>\n",
       "      <td>(256, 75, 100)</td>\n",
       "      <td>295168.0</td>\n",
       "    </tr>\n",
       "    <tr>\n",
       "      <th>11</th>\n",
       "      <td>ReLU</td>\n",
       "      <td>(256, 75, 100)</td>\n",
       "      <td>(256, 75, 100)</td>\n",
       "      <td>NaN</td>\n",
       "    </tr>\n",
       "    <tr>\n",
       "      <th>12</th>\n",
       "      <td>Conv2d</td>\n",
       "      <td>(256, 75, 100)</td>\n",
       "      <td>(256, 75, 100)</td>\n",
       "      <td>590080.0</td>\n",
       "    </tr>\n",
       "    <tr>\n",
       "      <th>13</th>\n",
       "      <td>ReLU</td>\n",
       "      <td>(256, 75, 100)</td>\n",
       "      <td>(256, 75, 100)</td>\n",
       "      <td>NaN</td>\n",
       "    </tr>\n",
       "    <tr>\n",
       "      <th>14</th>\n",
       "      <td>Conv2d</td>\n",
       "      <td>(256, 75, 100)</td>\n",
       "      <td>(256, 75, 100)</td>\n",
       "      <td>590080.0</td>\n",
       "    </tr>\n",
       "    <tr>\n",
       "      <th>15</th>\n",
       "      <td>ReLU</td>\n",
       "      <td>(256, 75, 100)</td>\n",
       "      <td>(256, 75, 100)</td>\n",
       "      <td>NaN</td>\n",
       "    </tr>\n",
       "    <tr>\n",
       "      <th>16</th>\n",
       "      <td>MaxPool2d</td>\n",
       "      <td>(256, 75, 100)</td>\n",
       "      <td>(256, 37, 50)</td>\n",
       "      <td>NaN</td>\n",
       "    </tr>\n",
       "    <tr>\n",
       "      <th>17</th>\n",
       "      <td>Conv2d</td>\n",
       "      <td>(256, 37, 50)</td>\n",
       "      <td>(512, 37, 50)</td>\n",
       "      <td>1180160.0</td>\n",
       "    </tr>\n",
       "    <tr>\n",
       "      <th>18</th>\n",
       "      <td>ReLU</td>\n",
       "      <td>(512, 37, 50)</td>\n",
       "      <td>(512, 37, 50)</td>\n",
       "      <td>NaN</td>\n",
       "    </tr>\n",
       "    <tr>\n",
       "      <th>19</th>\n",
       "      <td>Conv2d</td>\n",
       "      <td>(512, 37, 50)</td>\n",
       "      <td>(512, 37, 50)</td>\n",
       "      <td>2359808.0</td>\n",
       "    </tr>\n",
       "    <tr>\n",
       "      <th>20</th>\n",
       "      <td>ReLU</td>\n",
       "      <td>(512, 37, 50)</td>\n",
       "      <td>(512, 37, 50)</td>\n",
       "      <td>NaN</td>\n",
       "    </tr>\n",
       "    <tr>\n",
       "      <th>21</th>\n",
       "      <td>Conv2d</td>\n",
       "      <td>(512, 37, 50)</td>\n",
       "      <td>(512, 37, 50)</td>\n",
       "      <td>2359808.0</td>\n",
       "    </tr>\n",
       "    <tr>\n",
       "      <th>22</th>\n",
       "      <td>ReLU</td>\n",
       "      <td>(512, 37, 50)</td>\n",
       "      <td>(512, 37, 50)</td>\n",
       "      <td>NaN</td>\n",
       "    </tr>\n",
       "    <tr>\n",
       "      <th>23</th>\n",
       "      <td>MaxPool2d</td>\n",
       "      <td>(512, 37, 50)</td>\n",
       "      <td>(512, 18, 25)</td>\n",
       "      <td>NaN</td>\n",
       "    </tr>\n",
       "    <tr>\n",
       "      <th>24</th>\n",
       "      <td>Conv2d</td>\n",
       "      <td>(512, 18, 25)</td>\n",
       "      <td>(512, 18, 25)</td>\n",
       "      <td>2359808.0</td>\n",
       "    </tr>\n",
       "    <tr>\n",
       "      <th>25</th>\n",
       "      <td>ReLU</td>\n",
       "      <td>(512, 18, 25)</td>\n",
       "      <td>(512, 18, 25)</td>\n",
       "      <td>NaN</td>\n",
       "    </tr>\n",
       "    <tr>\n",
       "      <th>26</th>\n",
       "      <td>Conv2d</td>\n",
       "      <td>(512, 18, 25)</td>\n",
       "      <td>(512, 18, 25)</td>\n",
       "      <td>2359808.0</td>\n",
       "    </tr>\n",
       "    <tr>\n",
       "      <th>27</th>\n",
       "      <td>ReLU</td>\n",
       "      <td>(512, 18, 25)</td>\n",
       "      <td>(512, 18, 25)</td>\n",
       "      <td>NaN</td>\n",
       "    </tr>\n",
       "    <tr>\n",
       "      <th>28</th>\n",
       "      <td>Conv2d</td>\n",
       "      <td>(512, 18, 25)</td>\n",
       "      <td>(512, 18, 25)</td>\n",
       "      <td>2359808.0</td>\n",
       "    </tr>\n",
       "    <tr>\n",
       "      <th>29</th>\n",
       "      <td>ReLU</td>\n",
       "      <td>(512, 18, 25)</td>\n",
       "      <td>(512, 18, 25)</td>\n",
       "      <td>NaN</td>\n",
       "    </tr>\n",
       "    <tr>\n",
       "      <th>30</th>\n",
       "      <td>MaxPool2d</td>\n",
       "      <td>(512, 18, 25)</td>\n",
       "      <td>(512, 9, 12)</td>\n",
       "      <td>NaN</td>\n",
       "    </tr>\n",
       "    <tr>\n",
       "      <th>31</th>\n",
       "      <td>AdaptiveAvgPool2d</td>\n",
       "      <td>(512, 9, 12)</td>\n",
       "      <td>(512, 7, 7)</td>\n",
       "      <td>NaN</td>\n",
       "    </tr>\n",
       "    <tr>\n",
       "      <th>32</th>\n",
       "      <td>Linear</td>\n",
       "      <td>(25088,)</td>\n",
       "      <td>(4096,)</td>\n",
       "      <td>102764544.0</td>\n",
       "    </tr>\n",
       "    <tr>\n",
       "      <th>33</th>\n",
       "      <td>ReLU</td>\n",
       "      <td>(4096,)</td>\n",
       "      <td>(4096,)</td>\n",
       "      <td>NaN</td>\n",
       "    </tr>\n",
       "    <tr>\n",
       "      <th>34</th>\n",
       "      <td>Dropout</td>\n",
       "      <td>(4096,)</td>\n",
       "      <td>(4096,)</td>\n",
       "      <td>NaN</td>\n",
       "    </tr>\n",
       "    <tr>\n",
       "      <th>35</th>\n",
       "      <td>Linear</td>\n",
       "      <td>(4096,)</td>\n",
       "      <td>(4096,)</td>\n",
       "      <td>16781312.0</td>\n",
       "    </tr>\n",
       "    <tr>\n",
       "      <th>36</th>\n",
       "      <td>ReLU</td>\n",
       "      <td>(4096,)</td>\n",
       "      <td>(4096,)</td>\n",
       "      <td>NaN</td>\n",
       "    </tr>\n",
       "    <tr>\n",
       "      <th>37</th>\n",
       "      <td>Dropout</td>\n",
       "      <td>(4096,)</td>\n",
       "      <td>(4096,)</td>\n",
       "      <td>NaN</td>\n",
       "    </tr>\n",
       "    <tr>\n",
       "      <th>38</th>\n",
       "      <td>Linear</td>\n",
       "      <td>(4096,)</td>\n",
       "      <td>(1000,)</td>\n",
       "      <td>4097000.0</td>\n",
       "    </tr>\n",
       "    <tr>\n",
       "      <th>Total</th>\n",
       "      <td>NaN</td>\n",
       "      <td>NaN</td>\n",
       "      <td>NaN</td>\n",
       "      <td>138357544.0</td>\n",
       "    </tr>\n",
       "  </tbody>\n",
       "</table>\n",
       "</div>"
      ],
      "text/plain": [
       "                    name         in_shape        out_shape   num_params\n",
       "0                 Conv2d    (3, 300, 400)   (64, 300, 400)       1792.0\n",
       "1                   ReLU   (64, 300, 400)   (64, 300, 400)          NaN\n",
       "2                 Conv2d   (64, 300, 400)   (64, 300, 400)      36928.0\n",
       "3                   ReLU   (64, 300, 400)   (64, 300, 400)          NaN\n",
       "4              MaxPool2d   (64, 300, 400)   (64, 150, 200)          NaN\n",
       "5                 Conv2d   (64, 150, 200)  (128, 150, 200)      73856.0\n",
       "6                   ReLU  (128, 150, 200)  (128, 150, 200)          NaN\n",
       "7                 Conv2d  (128, 150, 200)  (128, 150, 200)     147584.0\n",
       "8                   ReLU  (128, 150, 200)  (128, 150, 200)          NaN\n",
       "9              MaxPool2d  (128, 150, 200)   (128, 75, 100)          NaN\n",
       "10                Conv2d   (128, 75, 100)   (256, 75, 100)     295168.0\n",
       "11                  ReLU   (256, 75, 100)   (256, 75, 100)          NaN\n",
       "12                Conv2d   (256, 75, 100)   (256, 75, 100)     590080.0\n",
       "13                  ReLU   (256, 75, 100)   (256, 75, 100)          NaN\n",
       "14                Conv2d   (256, 75, 100)   (256, 75, 100)     590080.0\n",
       "15                  ReLU   (256, 75, 100)   (256, 75, 100)          NaN\n",
       "16             MaxPool2d   (256, 75, 100)    (256, 37, 50)          NaN\n",
       "17                Conv2d    (256, 37, 50)    (512, 37, 50)    1180160.0\n",
       "18                  ReLU    (512, 37, 50)    (512, 37, 50)          NaN\n",
       "19                Conv2d    (512, 37, 50)    (512, 37, 50)    2359808.0\n",
       "20                  ReLU    (512, 37, 50)    (512, 37, 50)          NaN\n",
       "21                Conv2d    (512, 37, 50)    (512, 37, 50)    2359808.0\n",
       "22                  ReLU    (512, 37, 50)    (512, 37, 50)          NaN\n",
       "23             MaxPool2d    (512, 37, 50)    (512, 18, 25)          NaN\n",
       "24                Conv2d    (512, 18, 25)    (512, 18, 25)    2359808.0\n",
       "25                  ReLU    (512, 18, 25)    (512, 18, 25)          NaN\n",
       "26                Conv2d    (512, 18, 25)    (512, 18, 25)    2359808.0\n",
       "27                  ReLU    (512, 18, 25)    (512, 18, 25)          NaN\n",
       "28                Conv2d    (512, 18, 25)    (512, 18, 25)    2359808.0\n",
       "29                  ReLU    (512, 18, 25)    (512, 18, 25)          NaN\n",
       "30             MaxPool2d    (512, 18, 25)     (512, 9, 12)          NaN\n",
       "31     AdaptiveAvgPool2d     (512, 9, 12)      (512, 7, 7)          NaN\n",
       "32                Linear         (25088,)          (4096,)  102764544.0\n",
       "33                  ReLU          (4096,)          (4096,)          NaN\n",
       "34               Dropout          (4096,)          (4096,)          NaN\n",
       "35                Linear          (4096,)          (4096,)   16781312.0\n",
       "36                  ReLU          (4096,)          (4096,)          NaN\n",
       "37               Dropout          (4096,)          (4096,)          NaN\n",
       "38                Linear          (4096,)          (1000,)    4097000.0\n",
       "Total                NaN              NaN              NaN  138357544.0"
      ]
     },
     "execution_count": 11,
     "metadata": {},
     "output_type": "execute_result"
    }
   ],
   "source": [
    "df"
   ]
  },
  {
   "cell_type": "code",
   "execution_count": 12,
   "metadata": {
    "ExecuteTime": {
     "end_time": "2020-03-16T15:17:58.482706Z",
     "start_time": "2020-03-16T15:17:58.478701Z"
    }
   },
   "outputs": [],
   "source": [
    "for hook in hooks:\n",
    "    hook.remove()"
   ]
  },
  {
   "cell_type": "markdown",
   "metadata": {},
   "source": [
    "# Dynamic UNET"
   ]
  },
  {
   "cell_type": "markdown",
   "metadata": {},
   "source": [
    "Get encoder somehow... fastai finds the first module with \"Pool\" in it and cuts the rest off"
   ]
  },
  {
   "cell_type": "code",
   "execution_count": 13,
   "metadata": {
    "ExecuteTime": {
     "end_time": "2020-03-16T15:17:58.488978Z",
     "start_time": "2020-03-16T15:17:58.483921Z"
    }
   },
   "outputs": [],
   "source": [
    "def conv_layer(ic, oc, ks, s, p):\n",
    "    return torch.nn.Sequential(torch.nn.Conv2d(ic, oc, kernel_size=ks, stride=s, padding=p, bias=False),\n",
    "                               torch.nn.BatchNorm2d(oc),\n",
    "                               torch.nn.ReLU(inplace=True))"
   ]
  },
  {
   "cell_type": "code",
   "execution_count": 14,
   "metadata": {
    "ExecuteTime": {
     "end_time": "2020-03-16T15:17:58.495689Z",
     "start_time": "2020-03-16T15:17:58.490468Z"
    }
   },
   "outputs": [],
   "source": [
    "def up_conv_layer(ic, oc, ks, s, p, sz):\n",
    "    return torch.nn.Sequential(conv_layer(ic, oc, ks, s, p),\n",
    "                               torch.nn.Upsample(size=sz, mode='bilinear', align_corners=True))"
   ]
  },
  {
   "cell_type": "code",
   "execution_count": 15,
   "metadata": {
    "ExecuteTime": {
     "end_time": "2020-03-16T15:17:58.506017Z",
     "start_time": "2020-03-16T15:17:58.496694Z"
    }
   },
   "outputs": [],
   "source": [
    "class DynamicUNET(torch.nn.Module):\n",
    "    def __init__(self, encoder, sz, oc):\n",
    "        super().__init__()\n",
    "        # Given an encoder, input size, and output channels we can generate a UNET\n",
    "        self.encoder = encoder\n",
    "        self.sz = sz\n",
    "        self.oc = oc\n",
    "        \n",
    "        # Use hooks to store the input right before the size changes (i.e. before the max pool)\n",
    "        # This might not work quite as intended for encoders with stride-2 convolution\n",
    "        def _hook(module, x, y):\n",
    "            if x[0].shape[2:] != y.shape[2:]:\n",
    "                module.x = x[0]\n",
    "                \n",
    "        hooks = []\n",
    "        for m in leaf_modules(encoder):\n",
    "            hooks.append(m.register_forward_hook(_hook))\n",
    "        self.hooks = hooks\n",
    "                \n",
    "        # Do dummy pass\n",
    "        X = torch.zeros(1, self.sz[2], *self.sz[0:2])\n",
    "        Xs = self._forward_encoder(X)\n",
    "                           \n",
    "        # Get decoder\n",
    "        decoder = []\n",
    "        sp_p = (0, Xs[0].shape[2], Xs[0].shape[3]) # Shape \"prev\"\n",
    "        for X1, X2 in zip(Xs[:-1], Xs[1:]):\n",
    "            sp_e = X1.shape[1:]                    # Shape \"encoder\"\n",
    "            sp_n = X2.shape[1:]                    # Shape \"next\"\n",
    "            decoder.append(up_conv_layer(sp_e[0]+sp_p[0], sp_n[0], 3, 1, 1, sp_n[1:]))\n",
    "            sp_p = sp_n\n",
    "        self.decoder = torch.nn.Sequential(*decoder)\n",
    "        \n",
    "        # Get last conv - since there is no upsampling for last convolution\n",
    "        self.last_conv = torch.nn.Conv2d(Xs[-1].shape[1]+sp_p[0], self.oc, 3, 1, 1)\n",
    "        \n",
    "    def _forward_encoder(self, X):\n",
    "        X = self.encoder.forward(X)\n",
    "        # Get hooked outputs\n",
    "        Xs = []\n",
    "        for m in leaf_modules(encoder):\n",
    "            if hasattr(m, 'x'):\n",
    "                Xs.append(m.x)\n",
    "        Xs.append(X); Xs.reverse() # These typically need to be accessed in reverse order\n",
    "        return Xs\n",
    "        \n",
    "    def forward(self, X):\n",
    "        Xs = self._forward_encoder(X)\n",
    "        X_p = Xs[0][:,0:0,:,:] # Empty, but same size and dimension as last X\n",
    "        for X, m in zip(Xs[:-1], self.decoder):\n",
    "            X_p = m.forward(torch.cat([X, X_p], dim=1))\n",
    "        return self.last_conv(torch.cat([Xs[-1], X_p], dim=1))\n",
    "        \n",
    "    def __del__(self):\n",
    "        for hook in self.hooks:\n",
    "            hook.remove()"
   ]
  },
  {
   "cell_type": "code",
   "execution_count": 16,
   "metadata": {
    "ExecuteTime": {
     "end_time": "2020-03-16T15:17:59.820877Z",
     "start_time": "2020-03-16T15:17:58.506993Z"
    }
   },
   "outputs": [],
   "source": [
    "encoder = torchvision.models.vgg16().features \n",
    "sz = (300, 400, 3)\n",
    "out_channels = 5"
   ]
  },
  {
   "cell_type": "code",
   "execution_count": 17,
   "metadata": {
    "ExecuteTime": {
     "end_time": "2020-03-16T15:18:00.120604Z",
     "start_time": "2020-03-16T15:17:59.821972Z"
    }
   },
   "outputs": [],
   "source": [
    "model = DynamicUNET(encoder, sz, out_channels)"
   ]
  },
  {
   "cell_type": "code",
   "execution_count": 18,
   "metadata": {
    "ExecuteTime": {
     "end_time": "2020-03-16T15:18:00.125343Z",
     "start_time": "2020-03-16T15:18:00.121680Z"
    }
   },
   "outputs": [
    {
     "data": {
      "text/plain": [
       "DynamicUNET(\n",
       "  (encoder): Sequential(\n",
       "    (0): Conv2d(3, 64, kernel_size=(3, 3), stride=(1, 1), padding=(1, 1))\n",
       "    (1): ReLU(inplace=True)\n",
       "    (2): Conv2d(64, 64, kernel_size=(3, 3), stride=(1, 1), padding=(1, 1))\n",
       "    (3): ReLU(inplace=True)\n",
       "    (4): MaxPool2d(kernel_size=2, stride=2, padding=0, dilation=1, ceil_mode=False)\n",
       "    (5): Conv2d(64, 128, kernel_size=(3, 3), stride=(1, 1), padding=(1, 1))\n",
       "    (6): ReLU(inplace=True)\n",
       "    (7): Conv2d(128, 128, kernel_size=(3, 3), stride=(1, 1), padding=(1, 1))\n",
       "    (8): ReLU(inplace=True)\n",
       "    (9): MaxPool2d(kernel_size=2, stride=2, padding=0, dilation=1, ceil_mode=False)\n",
       "    (10): Conv2d(128, 256, kernel_size=(3, 3), stride=(1, 1), padding=(1, 1))\n",
       "    (11): ReLU(inplace=True)\n",
       "    (12): Conv2d(256, 256, kernel_size=(3, 3), stride=(1, 1), padding=(1, 1))\n",
       "    (13): ReLU(inplace=True)\n",
       "    (14): Conv2d(256, 256, kernel_size=(3, 3), stride=(1, 1), padding=(1, 1))\n",
       "    (15): ReLU(inplace=True)\n",
       "    (16): MaxPool2d(kernel_size=2, stride=2, padding=0, dilation=1, ceil_mode=False)\n",
       "    (17): Conv2d(256, 512, kernel_size=(3, 3), stride=(1, 1), padding=(1, 1))\n",
       "    (18): ReLU(inplace=True)\n",
       "    (19): Conv2d(512, 512, kernel_size=(3, 3), stride=(1, 1), padding=(1, 1))\n",
       "    (20): ReLU(inplace=True)\n",
       "    (21): Conv2d(512, 512, kernel_size=(3, 3), stride=(1, 1), padding=(1, 1))\n",
       "    (22): ReLU(inplace=True)\n",
       "    (23): MaxPool2d(kernel_size=2, stride=2, padding=0, dilation=1, ceil_mode=False)\n",
       "    (24): Conv2d(512, 512, kernel_size=(3, 3), stride=(1, 1), padding=(1, 1))\n",
       "    (25): ReLU(inplace=True)\n",
       "    (26): Conv2d(512, 512, kernel_size=(3, 3), stride=(1, 1), padding=(1, 1))\n",
       "    (27): ReLU(inplace=True)\n",
       "    (28): Conv2d(512, 512, kernel_size=(3, 3), stride=(1, 1), padding=(1, 1))\n",
       "    (29): ReLU(inplace=True)\n",
       "    (30): MaxPool2d(kernel_size=2, stride=2, padding=0, dilation=1, ceil_mode=False)\n",
       "  )\n",
       "  (decoder): Sequential(\n",
       "    (0): Sequential(\n",
       "      (0): Sequential(\n",
       "        (0): Conv2d(512, 512, kernel_size=(3, 3), stride=(1, 1), padding=(1, 1), bias=False)\n",
       "        (1): BatchNorm2d(512, eps=1e-05, momentum=0.1, affine=True, track_running_stats=True)\n",
       "        (2): ReLU(inplace=True)\n",
       "      )\n",
       "      (1): Upsample(size=torch.Size([18, 25]), mode=bilinear)\n",
       "    )\n",
       "    (1): Sequential(\n",
       "      (0): Sequential(\n",
       "        (0): Conv2d(1024, 512, kernel_size=(3, 3), stride=(1, 1), padding=(1, 1), bias=False)\n",
       "        (1): BatchNorm2d(512, eps=1e-05, momentum=0.1, affine=True, track_running_stats=True)\n",
       "        (2): ReLU(inplace=True)\n",
       "      )\n",
       "      (1): Upsample(size=torch.Size([37, 50]), mode=bilinear)\n",
       "    )\n",
       "    (2): Sequential(\n",
       "      (0): Sequential(\n",
       "        (0): Conv2d(1024, 256, kernel_size=(3, 3), stride=(1, 1), padding=(1, 1), bias=False)\n",
       "        (1): BatchNorm2d(256, eps=1e-05, momentum=0.1, affine=True, track_running_stats=True)\n",
       "        (2): ReLU(inplace=True)\n",
       "      )\n",
       "      (1): Upsample(size=torch.Size([75, 100]), mode=bilinear)\n",
       "    )\n",
       "    (3): Sequential(\n",
       "      (0): Sequential(\n",
       "        (0): Conv2d(512, 128, kernel_size=(3, 3), stride=(1, 1), padding=(1, 1), bias=False)\n",
       "        (1): BatchNorm2d(128, eps=1e-05, momentum=0.1, affine=True, track_running_stats=True)\n",
       "        (2): ReLU(inplace=True)\n",
       "      )\n",
       "      (1): Upsample(size=torch.Size([150, 200]), mode=bilinear)\n",
       "    )\n",
       "    (4): Sequential(\n",
       "      (0): Sequential(\n",
       "        (0): Conv2d(256, 64, kernel_size=(3, 3), stride=(1, 1), padding=(1, 1), bias=False)\n",
       "        (1): BatchNorm2d(64, eps=1e-05, momentum=0.1, affine=True, track_running_stats=True)\n",
       "        (2): ReLU(inplace=True)\n",
       "      )\n",
       "      (1): Upsample(size=torch.Size([300, 400]), mode=bilinear)\n",
       "    )\n",
       "  )\n",
       "  (last_conv): Conv2d(128, 5, kernel_size=(3, 3), stride=(1, 1), padding=(1, 1))\n",
       ")"
      ]
     },
     "execution_count": 18,
     "metadata": {},
     "output_type": "execute_result"
    }
   ],
   "source": [
    "model"
   ]
  },
  {
   "cell_type": "code",
   "execution_count": 19,
   "metadata": {
    "ExecuteTime": {
     "end_time": "2020-03-16T15:18:00.536971Z",
     "start_time": "2020-03-16T15:18:00.126823Z"
    }
   },
   "outputs": [],
   "source": [
    "X = torch.zeros(1, sz[2], *sz[0:2])\n",
    "y_hat = model.forward(X)"
   ]
  },
  {
   "cell_type": "code",
   "execution_count": 20,
   "metadata": {
    "ExecuteTime": {
     "end_time": "2020-03-16T15:18:00.541367Z",
     "start_time": "2020-03-16T15:18:00.538048Z"
    }
   },
   "outputs": [
    {
     "data": {
      "text/plain": [
       "torch.Size([1, 5, 300, 400])"
      ]
     },
     "execution_count": 20,
     "metadata": {},
     "output_type": "execute_result"
    }
   ],
   "source": [
    "y_hat.shape"
   ]
  },
  {
   "cell_type": "code",
   "execution_count": null,
   "metadata": {},
   "outputs": [],
   "source": []
  }
 ],
 "metadata": {
  "kernelspec": {
   "display_name": "Python 3",
   "language": "python",
   "name": "python3"
  },
  "language_info": {
   "codemirror_mode": {
    "name": "ipython",
    "version": 3
   },
   "file_extension": ".py",
   "mimetype": "text/x-python",
   "name": "python",
   "nbconvert_exporter": "python",
   "pygments_lexer": "ipython3",
   "version": "3.6.9"
  },
  "varInspector": {
   "cols": {
    "lenName": 16,
    "lenType": 16,
    "lenVar": 40
   },
   "kernels_config": {
    "python": {
     "delete_cmd_postfix": "",
     "delete_cmd_prefix": "del ",
     "library": "var_list.py",
     "varRefreshCmd": "print(var_dic_list())"
    },
    "r": {
     "delete_cmd_postfix": ") ",
     "delete_cmd_prefix": "rm(",
     "library": "var_list.r",
     "varRefreshCmd": "cat(var_dic_list()) "
    }
   },
   "types_to_exclude": [
    "module",
    "function",
    "builtin_function_or_method",
    "instance",
    "_Feature"
   ],
   "window_display": false
  }
 },
 "nbformat": 4,
 "nbformat_minor": 2
}
